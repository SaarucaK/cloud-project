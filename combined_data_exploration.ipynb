{
 "cells": [
  {
   "cell_type": "code",
   "execution_count": 1,
   "id": "034c49b5",
   "metadata": {},
   "outputs": [],
   "source": [
    "#imports\n",
    "import matplotlib.pyplot as plt\n",
    "import cv2\n",
    "import os\n",
    "import numpy as np\n",
    "from math import sqrt\n",
    "import pandas as pd\n",
    "import glob\n",
    "from numpy import random\n",
    "import sys\n",
    "import pathlib\n",
    "import math\n",
    "from math import *\n",
    "import time\n",
    "import warnings\n",
    "warnings.simplefilter(action='ignore', category=FutureWarning)"
   ]
  },
  {
   "cell_type": "code",
   "execution_count": 2,
   "id": "9ede7b36",
   "metadata": {},
   "outputs": [],
   "source": [
    "data = pd.read_csv('combined_dataset.csv')\n",
    "data = data.sample(frac = 1)"
   ]
  },
  {
   "cell_type": "code",
   "execution_count": 4,
   "id": "ff35622a",
   "metadata": {},
   "outputs": [
    {
     "name": "stdout",
     "output_type": "stream",
     "text": [
      "8 high awareness True False False safe slip angle\n",
      "11 high awareness True False False unsafe slip angle\n",
      "10 high awareness True False False safe slip angle\n",
      "15 high awareness True False False safe slip angle\n",
      "9 high awareness True False False unsafe slip angle\n"
     ]
    },
    {
     "ename": "KeyboardInterrupt",
     "evalue": "",
     "output_type": "error",
     "traceback": [
      "\u001b[1;31m---------------------------------------------------------------------------\u001b[0m",
      "\u001b[1;31mKeyboardInterrupt\u001b[0m                         Traceback (most recent call last)",
      "\u001b[1;32m~\\AppData\\Local\\Temp\\ipykernel_34408\\93541124.py\u001b[0m in \u001b[0;36m<module>\u001b[1;34m\u001b[0m\n\u001b[0;32m     39\u001b[0m         \u001b[0mslip\u001b[0m \u001b[1;33m=\u001b[0m \u001b[1;34m\"unsafe slip angle\"\u001b[0m\u001b[1;33m\u001b[0m\u001b[1;33m\u001b[0m\u001b[0m\n\u001b[0;32m     40\u001b[0m     \u001b[0mprint\u001b[0m\u001b[1;33m(\u001b[0m\u001b[0mvehicle_density\u001b[0m\u001b[1;33m,\u001b[0m \u001b[0mdriver_awareness\u001b[0m\u001b[1;33m,\u001b[0m \u001b[0mcompliance\u001b[0m\u001b[1;33m,\u001b[0m \u001b[0mpedestrian_presense\u001b[0m\u001b[1;33m,\u001b[0m \u001b[0mvulnerable_user\u001b[0m\u001b[1;33m,\u001b[0m \u001b[0mslip\u001b[0m\u001b[1;33m)\u001b[0m\u001b[1;33m\u001b[0m\u001b[1;33m\u001b[0m\u001b[0m\n\u001b[1;32m---> 41\u001b[1;33m     \u001b[0mtime\u001b[0m\u001b[1;33m.\u001b[0m\u001b[0msleep\u001b[0m\u001b[1;33m(\u001b[0m\u001b[1;36m1\u001b[0m\u001b[1;33m)\u001b[0m\u001b[1;33m\u001b[0m\u001b[1;33m\u001b[0m\u001b[0m\n\u001b[0m",
      "\u001b[1;31mKeyboardInterrupt\u001b[0m: "
     ]
    }
   ],
   "source": [
    "for index, row in data.iterrows():\n",
    "    #Vehicle Density: Check how many cars are on the road at a given time.\n",
    "    vehicle_density = row['vehicle_density']\n",
    "    \n",
    "    #Driver Awareness: Check for cars stopped for an extended period of time.(velocity 0 and acceleration 0)\n",
    "    if row['totalVelocity']==0 and row['totalAcceleration']==0:\n",
    "        driver_awareness=\"low awareness\"\n",
    "    else:\n",
    "        driver_awareness=\"high awareness\"\n",
    "    \n",
    "    #Speed Limit Compliance: Check for cars traveling at speeds higher than the speed limit.\n",
    "    if row['totalVelocity']>row['speedLimit']:\n",
    "        compliance = False\n",
    "    else:\n",
    "        compliance = True\n",
    "    \n",
    "    #Collision Safety: Predict whether or not a car will collide with another car. (same xCenter and yCenter at same time)\n",
    "    if row['num_collision_vehicles']>1:\n",
    "        potential_collision = True\n",
    "    else:\n",
    "        potential_collision = False\n",
    "\n",
    "    #Pedestrian Safety: Check to see if there are pedestrians regularly crossing the road.\n",
    "    if row['class']==\"pedestrian\":\n",
    "        pedestrian_presense = True\n",
    "    else:\n",
    "        pedestrian_presense=False\n",
    "        \n",
    "    #Vulnerable Road User Safety: (pedestrian, bicycle, motorcycle)Check to see if there are vulnerable users present the road.\n",
    "    if row['class']==\"pedestrian\" or row['class']==\"bicycle\" or row['class']==\"motorcycle\":\n",
    "        vulnerable_user = True\n",
    "    else:\n",
    "        vulnerable_user=False\n",
    "    \n",
    "    #Slip Angle: the angle between the direction in which a wheel is pointing and the direction in which it is actually traveling\n",
    "    if abs(row['slipangle'])>=0 and abs(row['slipangle']) < 20:\n",
    "        slip = \"safe slip angle\"\n",
    "    else:\n",
    "        slip = \"unsafe slip angle\"\n",
    "    print(vehicle_density, driver_awareness, compliance, pedestrian_presense, vulnerable_user, slip)\n",
    "    time.sleep(1)"
   ]
  },
  {
   "cell_type": "code",
   "execution_count": null,
   "id": "72478aa5",
   "metadata": {},
   "outputs": [],
   "source": []
  }
 ],
 "metadata": {
  "kernelspec": {
   "display_name": "Python 3 (ipykernel)",
   "language": "python",
   "name": "python3"
  },
  "language_info": {
   "codemirror_mode": {
    "name": "ipython",
    "version": 3
   },
   "file_extension": ".py",
   "mimetype": "text/x-python",
   "name": "python",
   "nbconvert_exporter": "python",
   "pygments_lexer": "ipython3",
   "version": "3.8.5"
  }
 },
 "nbformat": 4,
 "nbformat_minor": 5
}
